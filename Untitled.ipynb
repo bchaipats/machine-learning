{
 "cells": [
  {
   "cell_type": "code",
   "execution_count": 2,
   "id": "f31229ef",
   "metadata": {
    "scrolled": true
   },
   "outputs": [
    {
     "name": "stdout",
     "output_type": "stream",
     "text": [
      "Requirement already satisfied: numpy in /home/bcp/miniconda3/envs/da/lib/python3.10/site-packages (1.23.5)\n",
      "Requirement already satisfied: scipy in /home/bcp/miniconda3/envs/da/lib/python3.10/site-packages (1.9.3)\n",
      "Requirement already satisfied: scikit-learn in /home/bcp/miniconda3/envs/da/lib/python3.10/site-packages (1.1.3)\n",
      "Requirement already satisfied: matplotlib in /home/bcp/miniconda3/envs/da/lib/python3.10/site-packages (3.6.2)\n",
      "Requirement already satisfied: pandas in /home/bcp/miniconda3/envs/da/lib/python3.10/site-packages (1.5.2)\n",
      "Collecting quandl\n",
      "  Downloading Quandl-3.7.0-py2.py3-none-any.whl (26 kB)\n",
      "Requirement already satisfied: joblib>=1.0.0 in /home/bcp/miniconda3/envs/da/lib/python3.10/site-packages (from scikit-learn) (1.2.0)\n",
      "Requirement already satisfied: threadpoolctl>=2.0.0 in /home/bcp/miniconda3/envs/da/lib/python3.10/site-packages (from scikit-learn) (3.1.0)\n",
      "Requirement already satisfied: packaging>=20.0 in /home/bcp/miniconda3/envs/da/lib/python3.10/site-packages (from matplotlib) (21.3)\n",
      "Requirement already satisfied: fonttools>=4.22.0 in /home/bcp/miniconda3/envs/da/lib/python3.10/site-packages (from matplotlib) (4.38.0)\n",
      "Requirement already satisfied: pillow>=6.2.0 in /home/bcp/miniconda3/envs/da/lib/python3.10/site-packages (from matplotlib) (9.3.0)\n",
      "Requirement already satisfied: cycler>=0.10 in /home/bcp/miniconda3/envs/da/lib/python3.10/site-packages (from matplotlib) (0.11.0)\n",
      "Requirement already satisfied: python-dateutil>=2.7 in /home/bcp/miniconda3/envs/da/lib/python3.10/site-packages (from matplotlib) (2.8.2)\n",
      "Requirement already satisfied: kiwisolver>=1.0.1 in /home/bcp/miniconda3/envs/da/lib/python3.10/site-packages (from matplotlib) (1.4.4)\n",
      "Requirement already satisfied: contourpy>=1.0.1 in /home/bcp/miniconda3/envs/da/lib/python3.10/site-packages (from matplotlib) (1.0.6)\n",
      "Requirement already satisfied: pyparsing>=2.2.1 in /home/bcp/miniconda3/envs/da/lib/python3.10/site-packages (from matplotlib) (3.0.9)\n",
      "Requirement already satisfied: pytz>=2020.1 in /home/bcp/miniconda3/envs/da/lib/python3.10/site-packages (from pandas) (2022.6)\n",
      "Requirement already satisfied: six in /home/bcp/miniconda3/envs/da/lib/python3.10/site-packages (from quandl) (1.16.0)\n",
      "Collecting more-itertools\n",
      "  Downloading more_itertools-9.0.0-py3-none-any.whl (52 kB)\n",
      "\u001b[2K     \u001b[38;2;114;156;31m━━━━━━━━━━━━━━━━━━━━━━━━━━━━━━━━━━━━━━━━\u001b[0m \u001b[32m52.8/52.8 kB\u001b[0m \u001b[31m22.5 MB/s\u001b[0m eta \u001b[36m0:00:00\u001b[0m\n",
      "\u001b[?25hCollecting inflection>=0.3.1\n",
      "  Using cached inflection-0.5.1-py2.py3-none-any.whl (9.5 kB)\n",
      "Requirement already satisfied: requests>=2.7.0 in /home/bcp/miniconda3/envs/da/lib/python3.10/site-packages (from quandl) (2.28.1)\n",
      "Requirement already satisfied: certifi>=2017.4.17 in /home/bcp/miniconda3/envs/da/lib/python3.10/site-packages (from requests>=2.7.0->quandl) (2022.9.24)\n",
      "Requirement already satisfied: urllib3<1.27,>=1.21.1 in /home/bcp/miniconda3/envs/da/lib/python3.10/site-packages (from requests>=2.7.0->quandl) (1.26.13)\n",
      "Requirement already satisfied: idna<4,>=2.5 in /home/bcp/miniconda3/envs/da/lib/python3.10/site-packages (from requests>=2.7.0->quandl) (3.4)\n",
      "Requirement already satisfied: charset-normalizer<3,>=2 in /home/bcp/miniconda3/envs/da/lib/python3.10/site-packages (from requests>=2.7.0->quandl) (2.1.1)\n",
      "Installing collected packages: more-itertools, inflection, quandl\n",
      "Successfully installed inflection-0.5.1 more-itertools-9.0.0 quandl-3.7.0\n"
     ]
    }
   ],
   "source": [
    "!pip install numpy scipy scikit-learn matplotlib pandas quandl"
   ]
  },
  {
   "cell_type": "code",
   "execution_count": 3,
   "id": "bad829aa",
   "metadata": {},
   "outputs": [
    {
     "name": "stdout",
     "output_type": "stream",
     "text": [
      "              Open    High     Low    Close      Volume  Ex-Dividend  \\\n",
      "Date                                                                   \n",
      "2004-08-19  100.01  104.06   95.96  100.335  44659000.0          0.0   \n",
      "2004-08-20  101.01  109.08  100.50  108.310  22834300.0          0.0   \n",
      "2004-08-23  110.76  113.48  109.05  109.400  18256100.0          0.0   \n",
      "2004-08-24  111.24  111.60  103.57  104.870  15247300.0          0.0   \n",
      "2004-08-25  104.76  108.00  103.88  106.000   9188600.0          0.0   \n",
      "\n",
      "            Split Ratio  Adj. Open  Adj. High   Adj. Low  Adj. Close  \\\n",
      "Date                                                                   \n",
      "2004-08-19          1.0  50.159839  52.191109  48.128568   50.322842   \n",
      "2004-08-20          1.0  50.661387  54.708881  50.405597   54.322689   \n",
      "2004-08-23          1.0  55.551482  56.915693  54.693835   54.869377   \n",
      "2004-08-24          1.0  55.792225  55.972783  51.945350   52.597363   \n",
      "2004-08-25          1.0  52.542193  54.167209  52.100830   53.164113   \n",
      "\n",
      "            Adj. Volume  \n",
      "Date                     \n",
      "2004-08-19   44659000.0  \n",
      "2004-08-20   22834300.0  \n",
      "2004-08-23   18256100.0  \n",
      "2004-08-24   15247300.0  \n",
      "2004-08-25    9188600.0  \n"
     ]
    }
   ],
   "source": [
    "import pandas as pd\n",
    "import quandl\n",
    "\n",
    "df = quandl.get('WIKI/GOOGL')\n",
    "\n",
    "print(df.head())"
   ]
  },
  {
   "cell_type": "code",
   "execution_count": null,
   "id": "279bad72",
   "metadata": {},
   "outputs": [],
   "source": []
  }
 ],
 "metadata": {
  "kernelspec": {
   "display_name": "Python 3 (ipykernel)",
   "language": "python",
   "name": "python3"
  },
  "language_info": {
   "codemirror_mode": {
    "name": "ipython",
    "version": 3
   },
   "file_extension": ".py",
   "mimetype": "text/x-python",
   "name": "python",
   "nbconvert_exporter": "python",
   "pygments_lexer": "ipython3",
   "version": "3.10.8"
  }
 },
 "nbformat": 4,
 "nbformat_minor": 5
}
